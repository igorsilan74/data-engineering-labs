{
 "cells": [
  {
   "cell_type": "code",
   "execution_count": 1,
   "metadata": {
    "execution": {
     "iopub.execute_input": "2025-07-13T20:24:51.612647Z",
     "iopub.status.busy": "2025-07-13T20:24:51.612298Z",
     "iopub.status.idle": "2025-07-13T20:26:03.305110Z",
     "shell.execute_reply": "2025-07-13T20:26:03.304336Z",
     "shell.execute_reply.started": "2025-07-13T20:24:51.612617Z"
    },
    "tags": []
   },
   "outputs": [
    {
     "data": {
      "application/vnd.jupyter.widget-view+json": {
       "model_id": "fe609ccbf4ce4938852da81a1c4811ab",
       "version_major": 2,
       "version_minor": 0
      },
      "text/plain": [
       "VBox()"
      ]
     },
     "metadata": {},
     "output_type": "display_data"
    },
    {
     "name": "stdout",
     "output_type": "stream",
     "text": [
      "Starting Spark application\n"
     ]
    },
    {
     "data": {
      "text/html": [
       "<table>\n<tbody><tr><th>ID</th><th>YARN Application ID</th><th>Kind</th><th>State</th><th>Spark UI</th><th>Driver log</th><th>User</th><th>Current session?</th></tr><tr><td>8</td><td>application_1752432793451_0009</td><td>pyspark</td><td>idle</td><td><a target=\"_blank\" href=\"http://ip-172-31-9-138.eu-north-1.compute.internal:20888/proxy/application_1752432793451_0009/\" class=\"emr-proxy-link j-2P40DWK84FVJ9 application_1752432793451_0009\" emr-resource=\"j-2P40DWK84FVJ9\n\" application-id=\"application_1752432793451_0009\">Link</a></td><td><a target=\"_blank\" href=\"http://ip-172-31-10-40.eu-north-1.compute.internal:8042/node/containerlogs/container_1752432793451_0009_01_000001/livy\">Link</a></td><td>None</td><td>✔</td></tr></tbody></table>"
      ],
      "text/plain": [
       "<IPython.core.display.HTML object>"
      ]
     },
     "metadata": {},
     "output_type": "display_data"
    },
    {
     "data": {
      "application/vnd.jupyter.widget-view+json": {
       "model_id": "",
       "version_major": 2,
       "version_minor": 0
      },
      "text/plain": [
       "FloatProgress(value=0.0, bar_style='info', description='Progress:', layout=Layout(height='25px', width='50%'),…"
      ]
     },
     "metadata": {},
     "output_type": "display_data"
    },
    {
     "name": "stdout",
     "output_type": "stream",
     "text": [
      "SparkSession available as 'spark'.\n"
     ]
    },
    {
     "data": {
      "application/vnd.jupyter.widget-view+json": {
       "model_id": "",
       "version_major": 2,
       "version_minor": 0
      },
      "text/plain": [
       "FloatProgress(value=0.0, bar_style='info', description='Progress:', layout=Layout(height='25px', width='50%'),…"
      ]
     },
     "metadata": {},
     "output_type": "display_data"
    },
    {
     "name": "stdout",
     "output_type": "stream",
     "text": [
      "3.5.5-amzn-0"
     ]
    }
   ],
   "source": [
    "print(spark.version)"
   ]
  },
  {
   "cell_type": "code",
   "execution_count": 2,
   "metadata": {
    "execution": {
     "iopub.execute_input": "2025-07-13T20:26:07.818615Z",
     "iopub.status.busy": "2025-07-13T20:26:07.818340Z",
     "iopub.status.idle": "2025-07-13T20:26:07.864993Z",
     "shell.execute_reply": "2025-07-13T20:26:07.864270Z",
     "shell.execute_reply.started": "2025-07-13T20:26:07.818586Z"
    }
   },
   "outputs": [
    {
     "data": {
      "application/vnd.jupyter.widget-view+json": {
       "model_id": "d633a84d8bd94e8bab6b0385076fef30",
       "version_major": 2,
       "version_minor": 0
      },
      "text/plain": [
       "VBox()"
      ]
     },
     "metadata": {},
     "output_type": "display_data"
    },
    {
     "data": {
      "application/vnd.jupyter.widget-view+json": {
       "model_id": "",
       "version_major": 2,
       "version_minor": 0
      },
      "text/plain": [
       "FloatProgress(value=0.0, bar_style='info', description='Progress:', layout=Layout(height='25px', width='50%'),…"
      ]
     },
     "metadata": {},
     "output_type": "display_data"
    }
   ],
   "source": [
    "from pyspark.sql import SparkSession\n",
    "import pyspark.sql.functions as F\n",
    "from pyspark.sql.types import StructType, StructField, StringType, IntegerType, DoubleType, TimestampType, LongType, TimestampNTZType, StringType\n",
    "import os\n",
    "\n",
    "spark = SparkSession.builder.master(\"local[*]\").appName(\"homework3\").getOrCreate()\n"
   ]
  },
  {
   "cell_type": "code",
   "execution_count": 3,
   "metadata": {
    "execution": {
     "iopub.execute_input": "2025-07-13T20:26:16.609732Z",
     "iopub.status.busy": "2025-07-13T20:26:16.609399Z",
     "iopub.status.idle": "2025-07-13T20:26:29.937204Z",
     "shell.execute_reply": "2025-07-13T20:26:29.936448Z",
     "shell.execute_reply.started": "2025-07-13T20:26:16.609692Z"
    },
    "tags": []
   },
   "outputs": [
    {
     "data": {
      "application/vnd.jupyter.widget-view+json": {
       "model_id": "3edbb99e643f4d6aa7abb5ad32a0827f",
       "version_major": 2,
       "version_minor": 0
      },
      "text/plain": [
       "VBox()"
      ]
     },
     "metadata": {},
     "output_type": "display_data"
    },
    {
     "data": {
      "application/vnd.jupyter.widget-view+json": {
       "model_id": "",
       "version_major": 2,
       "version_minor": 0
      },
      "text/plain": [
       "FloatProgress(value=0.0, bar_style='info', description='Progress:', layout=Layout(height='25px', width='50%'),…"
      ]
     },
     "metadata": {},
     "output_type": "display_data"
    },
    {
     "name": "stdout",
     "output_type": "stream",
     "text": [
      "+--------+------------------+------------+------------+----------+---------------+-------------+-----------+-----+-------+----------+------------+---------------------+------------+------------+--------------------+----+---------+------------+-------------------+-------------------+------------------+-------------------+---------+---------+---------+\n",
      "|VendorID|store_and_fwd_flag|PULocationID|DOLocationID|RatecodeID|passenger_count|trip_distance|fare_amount|extra|mta_tax|tip_amount|tolls_amount|improvement_surcharge|total_amount|payment_type|congestion_surcharge|hour|dayofweek|duration_min|    pickup_datetime|   dropoff_datetime|pickup_location_id|dropoff_location_id|taxi_type|ehail_fee|trip_type|\n",
      "+--------+------------------+------------+------------+----------+---------------+-------------+-----------+-----+-------+----------+------------+---------------------+------------+------------+--------------------+----+---------+------------+-------------------+-------------------+------------------+-------------------+---------+---------+---------+\n",
      "|       2|              NULL|         146|         146|         1|              6|          0.0|        3.5|  0.5|    0.5|      0.02|         0.0|                  0.0|        4.52|           1|                NULL|   0|      Wed|         2.0|2014-01-01 00:02:00|2014-01-01 00:04:00|               146|                146|   yellow|     NULL|     NULL|\n",
      "|       2|              NULL|         146|         146|         1|              5|          0.0|        3.5|  0.5|    0.5|      0.05|         0.0|                  0.0|        4.55|           1|                NULL|   0|      Wed|         3.0|2014-01-01 00:06:00|2014-01-01 00:09:00|               146|                146|   yellow|     NULL|     NULL|\n",
      "|       2|              NULL|         146|         146|         1|              5|          0.0|        3.5|  0.5|    0.5|      0.08|         0.0|                  0.0|        4.58|           1|                NULL|   0|      Wed|         3.0|2014-01-01 00:10:00|2014-01-01 00:13:00|               146|                146|   yellow|     NULL|     NULL|\n",
      "|       2|              NULL|         264|         264|         1|              5|          0.0|        2.5|  0.5|    0.5|       0.0|         0.0|                  0.0|         3.5|           2|                NULL|   0|      Wed|         1.0|2014-01-01 00:54:00|2014-01-01 00:55:00|               264|                264|   yellow|     NULL|     NULL|\n",
      "|       1|                 N|         229|         262|         1|              2|          1.8|        7.5|  0.5|    0.5|       0.0|         0.0|                  0.0|         8.5|           2|                NULL|   0|      Wed|        5.92|2014-01-01 00:29:18|2014-01-01 00:35:13|               229|                262|   yellow|     NULL|     NULL|\n",
      "+--------+------------------+------------+------------+----------+---------------+-------------+-----------+-----+-------+----------+------------+---------------------+------------+------------+--------------------+----+---------+------------+-------------------+-------------------+------------------+-------------------+---------+---------+---------+"
     ]
    }
   ],
   "source": [
    "yellow_path = 's3://robot-dreams-source-data/home-work-1/nyc_taxi/yellow'\n",
    "green_path =  's3://robot-dreams-source-data/home-work-1/nyc_taxi/green'\n",
    "lookup_path = 's3://robot-dreams-source-data/home-work-1/nyc_taxi/taxi_zone_lookup.csv'\n",
    "\n",
    "taxi_schema = StructType([\n",
    "    StructField(\"VendorID\", LongType(), True),\n",
    "    StructField(\"tpep_pickup_datetime\", TimestampNTZType(), True),\n",
    "    StructField(\"tpep_dropoff_datetime\", TimestampNTZType(), True),\n",
    "    StructField(\"lpep_pickup_datetime\", TimestampNTZType(), True),\n",
    "    StructField(\"lpep_dropoff_datetime\", TimestampNTZType(), True),\n",
    "    StructField(\"passenger_count\", LongType(), True),\n",
    "    StructField(\"trip_distance\", DoubleType(), True),\n",
    "    StructField(\"RatecodeID\", LongType(), True),\n",
    "    StructField(\"store_and_fwd_flag\", StringType(), True),\n",
    "    StructField(\"PULocationID\", LongType(), True),\n",
    "    StructField(\"DOLocationID\", LongType(), True),\n",
    "    StructField(\"payment_type\", LongType(), True),\n",
    "    StructField(\"fare_amount\", DoubleType(), True),\n",
    "    StructField(\"extra\", DoubleType(), True),\n",
    "    StructField(\"mta_tax\", DoubleType(), True),\n",
    "    StructField(\"tip_amount\", DoubleType(), True),\n",
    "    StructField(\"tolls_amount\", DoubleType(), True),\n",
    "    StructField(\"improvement_surcharge\", DoubleType(), True),\n",
    "    StructField(\"total_amount\", DoubleType(), True),\n",
    "    StructField(\"congestion_surcharge\", DoubleType(), True),\n",
    "    StructField(\"airport_fee\", IntegerType(), True),\n",
    "    StructField(\"ehail_fee\", IntegerType(), True),\n",
    "    StructField(\"trip_type\", DoubleType(), True)\n",
    "])    \n",
    "\n",
    "\n",
    "# Schema Harmonization\n",
    "common_columns = [\n",
    "    \"VendorID\",\n",
    "    \"store_and_fwd_flag\",\n",
    "    \"PULocationID\",\n",
    "    \"DOLocationID\",\n",
    "    \"RatecodeID\",\n",
    "    \"passenger_count\",\n",
    "    \"trip_distance\",\n",
    "    \"fare_amount\",\n",
    "    \"extra\",\n",
    "    \"mta_tax\",\n",
    "    \"tip_amount\",\n",
    "    \"tolls_amount\",\n",
    "    \"improvement_surcharge\",\n",
    "    \"total_amount\",\n",
    "    \"payment_type\",\n",
    "    \"congestion_surcharge\"\n",
    "]\n",
    "\n",
    "# Read yellow taxi data\n",
    "#yellow_df_raw = spark.read.option(\"mergeSchema\", \"true\").option(\"recursiveFileLookup\", \"true\").schema(taxi_schema).parquet(yellow_path)\n",
    "\n",
    "paths = [f\"{yellow_path}/{year}/\" for year in [2014, 2015, 2016, 2017, 2018, 2020, 2022]]\n",
    "dfs = []\n",
    "for path in paths:\n",
    "    df = spark.read.option(\"mergeSchema\", \"true\").schema(taxi_schema).parquet(path)\n",
    "    dfs.append(df)\n",
    "\n",
    "yellow_df_raw = dfs[0]\n",
    "for df in dfs[1:]:\n",
    "    yellow_df_raw = yellow_df_raw.unionByName(df)\n",
    "\n",
    "yellow_df = yellow_df_raw.select(\n",
    "    *common_columns,\n",
    "    F.hour(\"tpep_pickup_datetime\").alias(\"hour\"),\n",
    "    F.date_format(\"tpep_pickup_datetime\", \"E\").alias(\"dayofweek\"),\n",
    "    F.round((F.unix_timestamp(\"tpep_dropoff_datetime\") - F.unix_timestamp(\"tpep_pickup_datetime\")) / 60, 2).alias(\"duration_min\"),\n",
    "    F.col(\"tpep_pickup_datetime\").alias(\"pickup_datetime\"),\n",
    "    F.col(\"tpep_dropoff_datetime\").alias(\"dropoff_datetime\"),\n",
    "    F.col(\"PULocationID\").cast(LongType()).alias(\"pickup_location_id\"),\n",
    "    F.col(\"DOLocationID\").cast(LongType()).alias(\"dropoff_location_id\"),\n",
    "    F.lit(\"yellow\").alias(\"taxi_type\"),\n",
    ").drop(\"tpep_pickup_datetime\")\n",
    "\n",
    "# Read green taxi data\n",
    "#green_df_raw = spark.read.option(\"mergeSchema\", \"true\").option(\"recursiveFileLookup\", \"true\").schema(taxi_schema).parquet(green_path)\n",
    "\n",
    "paths = [f\"{green_path}/{year}/\" for year in [2014, 2015, 2016, 2017, 2018, 2020, 2022]]\n",
    "dfs = []\n",
    "for path in paths:\n",
    "    df = spark.read.option(\"mergeSchema\", \"true\").schema(taxi_schema).parquet(path)\n",
    "    dfs.append(df)\n",
    "\n",
    "green_df_raw = dfs[0]\n",
    "for df in dfs[1:]:\n",
    "    green_df_raw = green_df_raw.unionByName(df)\n",
    "\n",
    "green_df = green_df_raw.select(\n",
    "    *common_columns,\n",
    "    F.hour(\"lpep_pickup_datetime\").alias(\"hour\"),\n",
    "    F.date_format(\"lpep_pickup_datetime\", \"E\").alias(\"dayofweek\"),\n",
    "    F.round((F.unix_timestamp(\"lpep_pickup_datetime\") - F.unix_timestamp(\"lpep_pickup_datetime\")) / 60, 2).alias(\"duration_min\"),\n",
    "    F.col(\"lpep_pickup_datetime\").alias(\"pickup_datetime\"),\n",
    "    F.col(\"lpep_pickup_datetime\").alias(\"dropoff_datetime\"),\n",
    "    F.col(\"ehail_fee\").alias(\"ehail_fee\"),\n",
    "    F.col(\"trip_type\").alias(\"trip_type\"),\n",
    "    F.col(\"PULocationID\").cast(LongType()).alias(\"pickup_location_id\"),\n",
    "    F.col(\"DOLocationID\").cast(LongType()).alias(\"dropoff_location_id\"),\n",
    "    F.lit(\"green\").alias(\"taxi_type\")\n",
    ").drop(\"lpep_pickup_datetime\")\n",
    "\n",
    "raw_trips_df = yellow_df.unionByName(green_df, allowMissingColumns=True)\n",
    "\n",
    "raw_trips_df.limit(5).show()\n"
   ]
  },
  {
   "cell_type": "code",
   "execution_count": 4,
   "metadata": {
    "execution": {
     "iopub.execute_input": "2025-07-13T20:26:39.562186Z",
     "iopub.status.busy": "2025-07-13T20:26:39.561916Z",
     "iopub.status.idle": "2025-07-13T20:26:44.833692Z",
     "shell.execute_reply": "2025-07-13T20:26:44.832999Z",
     "shell.execute_reply.started": "2025-07-13T20:26:39.562158Z"
    }
   },
   "outputs": [
    {
     "data": {
      "application/vnd.jupyter.widget-view+json": {
       "model_id": "dc9ce1d688a148498a27061c84de4ffa",
       "version_major": 2,
       "version_minor": 0
      },
      "text/plain": [
       "VBox()"
      ]
     },
     "metadata": {},
     "output_type": "display_data"
    },
    {
     "data": {
      "application/vnd.jupyter.widget-view+json": {
       "model_id": "",
       "version_major": 2,
       "version_minor": 0
      },
      "text/plain": [
       "FloatProgress(value=0.0, bar_style='info', description='Progress:', layout=Layout(height='25px', width='50%'),…"
      ]
     },
     "metadata": {},
     "output_type": "display_data"
    },
    {
     "name": "stdout",
     "output_type": "stream",
     "text": [
      "+--------+------------------+------------+------------+----------+---------------+-------------+-----------+-----+-------+----------+------------+---------------------+------------+------------+--------------------+----+---------+------------+-------------------+-------------------+------------------+-------------------+---------+---------+---------+--------------------+--------------+\n",
      "|VendorID|store_and_fwd_flag|PULocationID|DOLocationID|RatecodeID|passenger_count|trip_distance|fare_amount|extra|mta_tax|tip_amount|tolls_amount|improvement_surcharge|total_amount|payment_type|congestion_surcharge|hour|dayofweek|duration_min|    pickup_datetime|   dropoff_datetime|pickup_location_id|dropoff_location_id|taxi_type|ehail_fee|trip_type|         pickup_zone|  dropoff_zone|\n",
      "+--------+------------------+------------+------------+----------+---------------+-------------+-----------+-----+-------+----------+------------+---------------------+------------+------------+--------------------+----+---------+------------+-------------------+-------------------+------------------+-------------------+---------+---------+---------+--------------------+--------------+\n",
      "|       1|                 N|         229|         262|         1|              2|          1.8|        7.5|  0.5|    0.5|       0.0|         0.0|                  0.0|         8.5|           2|                NULL|   0|      Wed|        5.92|2014-01-01 00:29:18|2014-01-01 00:35:13|               229|                262|   yellow|     NULL|     NULL|Sutton Place/Turt...|Yorkville East|\n",
      "|       1|                 N|         140|           7|         1|              3|          4.8|       17.5|  0.5|    0.5|       0.0|         0.0|                  0.0|        18.5|           2|                NULL|   0|      Wed|       18.77|2014-01-01 00:36:33|2014-01-01 00:55:19|               140|                  7|   yellow|     NULL|     NULL|     Lenox Hill East|       Astoria|\n",
      "|       1|                 N|          82|         226|         1|              2|          2.0|        9.5|  0.5|    0.5|       0.0|         0.0|                  0.0|        10.5|           2|                NULL|   0|      Wed|        10.4|2014-01-01 00:20:43|2014-01-01 00:31:07|                82|                226|   yellow|     NULL|     NULL|            Elmhurst|     Sunnyside|\n",
      "|       1|                 N|         162|         170|         1|              1|          1.1|        6.5|  0.5|    0.5|       0.0|         0.0|                  0.0|         7.5|           2|                NULL|   0|      Wed|        7.37|2014-01-01 00:48:52|2014-01-01 00:56:14|               162|                170|   yellow|     NULL|     NULL|        Midtown East|   Murray Hill|\n",
      "|       1|                 N|          90|          79|         1|              1|          1.6|        8.5|  0.5|    0.5|       1.0|         0.0|                  0.0|        10.5|           1|                NULL|   0|      Wed|       10.07|2014-01-01 00:45:29|2014-01-01 00:55:33|                90|                 79|   yellow|     NULL|     NULL|            Flatiron|  East Village|\n",
      "+--------+------------------+------------+------------+----------+---------------+-------------+-----------+-----+-------+----------+------------+---------------------+------------+------------+--------------------+----+---------+------------+-------------------+-------------------+------------------+-------------------+---------+---------+---------+--------------------+--------------+"
     ]
    }
   ],
   "source": [
    "filtered_trips_df = raw_trips_df.filter((F.col(\"trip_distance\") >= 0.1) \\\n",
    "                                        & (F.col(\"total_amount\") >= 2.0) \\\n",
    "                                        & (F.col(\"duration_min\") >= 1.0) \\\n",
    "                                       )\n",
    "\n",
    "zones_df = spark.read.option(\"header\", True).csv(lookup_path) \\\n",
    "    .select(\n",
    "        F.col(\"LocationID\").cast(LongType()).alias(\"location_id\"),\n",
    "        F.col(\"zone\").alias(\"zone\")\n",
    "    )\n",
    "\n",
    "# add pickup_zone, dropoff_zone.\n",
    "trips_joined_zones_df = filtered_trips_df \\\n",
    "    .join(zones_df, filtered_trips_df.pickup_location_id == zones_df.location_id, \"left\") \\\n",
    "    .withColumn(\"pickup_zone\", F.when(F.col(\"zone\").isNull(), \"Unknown\").otherwise(F.col(\"zone\"))) \\\n",
    "    .drop(\"location_id\", \"zone\") \\\n",
    "    .join(zones_df, filtered_trips_df.dropoff_location_id == zones_df.location_id, \"left\") \\\n",
    "    .withColumn(\"dropoff_zone\", F.when(F.col(\"zone\").isNull(), \"Unknown\").otherwise(F.col(\"zone\"))) \\\n",
    "    .drop(\"location_id\", \"zone\")\n",
    "\n",
    "trips_joined_zones_df.limit(5).show()\n"
   ]
  },
  {
   "cell_type": "code",
   "execution_count": 5,
   "metadata": {
    "execution": {
     "iopub.execute_input": "2025-07-13T20:26:51.323079Z",
     "iopub.status.busy": "2025-07-13T20:26:51.322856Z",
     "iopub.status.idle": "2025-07-13T20:29:27.036348Z",
     "shell.execute_reply": "2025-07-13T20:29:27.035526Z",
     "shell.execute_reply.started": "2025-07-13T20:26:51.323054Z"
    }
   },
   "outputs": [
    {
     "data": {
      "application/vnd.jupyter.widget-view+json": {
       "model_id": "a42f4d4488424a6b842b6011221cd2cf",
       "version_major": 2,
       "version_minor": 0
      },
      "text/plain": [
       "VBox()"
      ]
     },
     "metadata": {},
     "output_type": "display_data"
    },
    {
     "data": {
      "application/vnd.jupyter.widget-view+json": {
       "model_id": "",
       "version_major": 2,
       "version_minor": 0
      },
      "text/plain": [
       "FloatProgress(value=0.0, bar_style='info', description='Progress:', layout=Layout(height='25px', width='50%'),…"
      ]
     },
     "metadata": {},
     "output_type": "display_data"
    },
    {
     "name": "stdout",
     "output_type": "stream",
     "text": [
      "+--------------------+----------+------------------+------------------+------------------+------------+-----------+-----------------+--------------+\n",
      "|         pickup_zone|total_tips| avg_trip_distance|  avg_total_amount|    avg_tip_amount|yellow_share|green_share|max_trip_distance|min_tip_amount|\n",
      "+--------------------+----------+------------------+------------------+------------------+------------+-----------+-----------------+--------------+\n",
      "|         Westerleigh|       589| 8.292750424448213| 39.20227504244481|3.4252631578947357|         1.0|        0.0|            124.4|           0.0|\n",
      "|Charleston/Totten...|      1299|30.955111624326417| 93.88849884526557|  2.17423402617398|         1.0|        0.0|            103.0|           0.0|\n",
      "|      Pelham Parkway|      9244| 5.813241021202942| 24.85483881436607|1.2378180441367377|         1.0|        0.0|           104.15|           0.0|\n",
      "|           Rego Park|     68684| 5.594908275580922|24.053239764719432| 1.963506056723545|         1.0|        0.0|         46532.54|           0.0|\n",
      "|   Kew Gardens Hills|     17429|10.162662229617306| 25.76008606345747|1.5959538699868037|         1.0|        0.0|         68704.94|           0.0|\n",
      "+--------------------+----------+------------------+------------------+------------------+------------+-----------+-----------------+--------------+\n",
      "\n",
      "+--------------------+---------+---------------+---------------+\n",
      "|         pickup_zone|dayofweek|total_day_count|high_fare_share|\n",
      "+--------------------+---------+---------------+---------------+\n",
      "|Allerton/Pelham G...|      Sun|            727|           0.29|\n",
      "|Allerton/Pelham G...|      Mon|            643|           0.41|\n",
      "|Allerton/Pelham G...|      Tue|            612|           0.39|\n",
      "|Allerton/Pelham G...|      Wed|            664|           0.47|\n",
      "|Allerton/Pelham G...|      Thu|            735|           0.41|\n",
      "+--------------------+---------+---------------+---------------+"
     ]
    }
   ],
   "source": [
    "zone_summary = trips_joined_zones_df.groupBy(\"pickup_zone\").agg(\n",
    "    F.count(F.lit(1)).alias(\"total_tips\"),\n",
    "    F.avg(\"trip_distance\").alias(\"avg_trip_distance\"),\n",
    "    F.avg(\"total_amount\").alias(\"avg_total_amount\"),\n",
    "    F.avg(\"tip_amount\").alias(\"avg_tip_amount\"),\n",
    "    F.round(\n",
    "        F.sum(F.when(F.col(\"taxi_type\") == \"yellow\", F.lit(1)).otherwise(F.lit(0)))\n",
    "        / F.sum(F.lit(1))\n",
    "        ,2)\n",
    "    .alias(\"yellow_share\"),\n",
    "    F.round((F.lit(1) - F.col(\"yellow_share\")), 2).alias(\"green_share\"),\n",
    "    F.max(\"trip_distance\").alias(\"max_trip_distance\"),\n",
    "    F.min(\"tip_amount\").alias(\"min_tip_amount\")\n",
    ")\n",
    "\n",
    "zone_days_statstic = trips_joined_zones_df \\\n",
    "    .withColumn(\"numdayofweek\", F.dayofweek(\"pickup_datetime\")) \\\n",
    "    .groupBy(\"pickup_zone\", \"dayofweek\", \"numdayofweek\").agg(\n",
    "    F.count(F.lit(1)).alias(\"total_day_count\"),\n",
    "    F.round(\n",
    "        F.sum(F.when(F.col(\"total_amount\") > 30, F.lit(1)).otherwise(F.lit(0)))\n",
    "        / F.sum(F.lit(1))\n",
    "        ,2)\n",
    "    .alias(\"high_fare_share\")\n",
    ").orderBy(\"pickup_zone\", \"numdayofweek\").drop(\"numdayofweek\")\n",
    "\n",
    "zone_summary.limit(5).show()\n",
    "zone_days_statstic.limit(5).show()\n"
   ]
  },
  {
   "cell_type": "code",
   "execution_count": 7,
   "metadata": {
    "execution": {
     "iopub.execute_input": "2025-07-13T20:34:24.316314Z",
     "iopub.status.busy": "2025-07-13T20:34:24.316021Z",
     "iopub.status.idle": "2025-07-13T20:37:02.047104Z",
     "shell.execute_reply": "2025-07-13T20:37:02.046387Z",
     "shell.execute_reply.started": "2025-07-13T20:34:24.316275Z"
    },
    "tags": []
   },
   "outputs": [
    {
     "data": {
      "application/vnd.jupyter.widget-view+json": {
       "model_id": "f5bccd12e85442ad9013027d2dc7f1bf",
       "version_major": 2,
       "version_minor": 0
      },
      "text/plain": [
       "VBox()"
      ]
     },
     "metadata": {},
     "output_type": "display_data"
    },
    {
     "data": {
      "application/vnd.jupyter.widget-view+json": {
       "model_id": "",
       "version_major": 2,
       "version_minor": 0
      },
      "text/plain": [
       "FloatProgress(value=0.0, bar_style='info', description='Progress:', layout=Layout(height='25px', width='50%'),…"
      ]
     },
     "metadata": {},
     "output_type": "display_data"
    }
   ],
   "source": [
    "import shutil\n",
    "import boto3\n",
    "from datetime import date\n",
    "\n",
    "# ============saving===========\n",
    "today_date = date.today().isoformat()\n",
    "s3 = boto3.client(\"s3\")\n",
    "bucket = \"isilantiev-emr-studio\"\n",
    "\n",
    "def s3_rename(prefix: str, target_name: str):\n",
    "  source_key = None\n",
    "  resp = s3.list_objects_v2(Bucket=bucket, Prefix=prefix)\n",
    "  for obj in resp.get(\"Contents\", []):\n",
    "    key = obj[\"Key\"]\n",
    "    if key.endswith(\".parquet\"):\n",
    "        source_key = key\n",
    "        break\n",
    "\n",
    "  if source_key:    \n",
    "    target_key = target_name\n",
    "    s3.copy_object(\n",
    "        Bucket=bucket,\n",
    "        CopySource={\"Bucket\": bucket, \"Key\": source_key},\n",
    "        Key=target_key\n",
    "    )\n",
    "      \n",
    "    # clean up temp folder\n",
    "    s3.delete_object(Bucket=bucket, Key=source_key)\n",
    "  s3.delete_object(Bucket=bucket, Key=prefix + \"/_SUCCESS\")\n",
    "\n",
    "\n",
    "# write to s3 both of files\n",
    "zone_statistic_path = os.path.join(\"results/zone_statistic\", today_date)\n",
    "zone_summary_single = zone_summary.coalesce(1)\n",
    "zone_summary_single.write.parquet(f\"s3://{bucket}/{zone_statistic_path}\", mode=\"overwrite\")\n",
    "s3_rename(zone_statistic_path, os.path.join(zone_statistic_path, \"zone_summary.parquet\"))\n",
    "\n",
    "zone_days_statistic_path = os.path.join(\"results/zone_days_statstic\", today_date)\n",
    "zone_days_summary_single = zone_days_statstic.coalesce(1)\n",
    "zone_days_summary_single.write.parquet(f\"s3://{bucket}/{zone_days_statistic_path}\", mode=\"overwrite\")\n",
    "s3_rename(zone_days_statistic_path, os.path.join(zone_days_statistic_path,\"zone_days_statstic.parquet\"))\n"
   ]
  },
  {
   "cell_type": "code",
   "execution_count": null,
   "metadata": {},
   "outputs": [],
   "source": []
  }
 ],
 "metadata": {
  "kernelspec": {
   "display_name": "PySpark",
   "language": "python",
   "name": "pysparkkernel"
  },
  "language_info": {
   "codemirror_mode": {
    "name": "python",
    "version": 3
   },
   "file_extension": ".py",
   "mimetype": "text/x-python",
   "name": "pyspark",
   "pygments_lexer": "python3"
  }
 },
 "nbformat": 4,
 "nbformat_minor": 4
}
